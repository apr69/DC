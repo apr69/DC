{
 "cells": [
  {
   "cell_type": "markdown",
   "id": "3cbe43d5-5e86-439a-b44c-ef92557df3cc",
   "metadata": {},
   "source": [
    "#### **Read the Data**"
   ]
  },
  {
   "cell_type": "code",
   "execution_count": 1,
   "id": "b4d9664e-fabf-4b43-800c-d8dff5f37c39",
   "metadata": {},
   "outputs": [
    {
     "name": "stdout",
     "output_type": "stream",
     "text": [
      "['date', 'precipitation', 'temp_max', 'temp_min', 'wind', 'weather']\n",
      "['2012-01-01', '0.0', '12.8', '5.0', '4.7', 'drizzle']\n",
      "['2012-01-02', '10.9', '10.6', '2.8', '4.5', 'rain']\n",
      "['2012-01-03', '0.8', '11.7', '7.2', '2.3', 'rain']\n",
      "['2012-01-04', '20.3', '12.2', '5.6', '4.7', 'rain']\n"
     ]
    }
   ],
   "source": [
    "import csv\n",
    "\n",
    "# Read CSV\n",
    "with open(\"weather.csv\", \"r\") as file:\n",
    "    reader = csv.reader(file)\n",
    "    data = list(reader)\n",
    "\n",
    "# Show sample\n",
    "for row in data[:5]:\n",
    "    print(row)\n"
   ]
  },
  {
   "cell_type": "markdown",
   "id": "b194bdcf-e0c4-4827-97cd-fe4850041e9c",
   "metadata": {},
   "source": [
    "#### **Mapper Phase**"
   ]
  },
  {
   "cell_type": "code",
   "execution_count": 2,
   "id": "5d8fa2c7-8dbe-492a-a45c-5e94920db0a6",
   "metadata": {},
   "outputs": [],
   "source": [
    "mapped_data = []\n",
    "\n",
    "for row in data:\n",
    "    try:\n",
    "        date = row[0]\n",
    "        temp_max = float(row[2])\n",
    "        temp_min = float(row[3])\n",
    "        year = date.split(\"-\")[0]\n",
    "        avg_temp = (temp_max + temp_min) / 2\n",
    "        mapped_data.append((year, avg_temp))\n",
    "    except:\n",
    "        continue  # skip invalid rows\n"
   ]
  },
  {
   "cell_type": "markdown",
   "id": "ca6da3a1-a87f-43fa-8c02-d0ff8f9ed60b",
   "metadata": {},
   "source": [
    "#### **Shuffling and Shorting Phase**"
   ]
  },
  {
   "cell_type": "code",
   "execution_count": 3,
   "id": "c7b84802-a386-4dea-9401-ccd6a2cfbfe5",
   "metadata": {},
   "outputs": [],
   "source": [
    "from collections import defaultdict\n",
    "\n",
    "shuffled_data = defaultdict(list)\n",
    "\n",
    "for year, temp in mapped_data:\n",
    "    shuffled_data[year].append(temp)\n"
   ]
  },
  {
   "cell_type": "markdown",
   "id": "64982c27-dea7-4e14-b823-326d74c403a2",
   "metadata": {},
   "source": [
    "#### **Reducer Phase**"
   ]
  },
  {
   "cell_type": "code",
   "execution_count": 4,
   "id": "4f2a2a6e-f01e-4198-9ea2-ec70f29bfae8",
   "metadata": {},
   "outputs": [],
   "source": [
    "reduced_data = {}\n",
    "\n",
    "for year, temps in shuffled_data.items():\n",
    "    avg_year_temp = sum(temps) / len(temps)\n",
    "    reduced_data[year] = avg_year_temp\n"
   ]
  },
  {
   "cell_type": "markdown",
   "id": "e93a5750-79b5-4320-99bc-a112e450ec9a",
   "metadata": {},
   "source": [
    "#### **Output**"
   ]
  },
  {
   "cell_type": "code",
   "execution_count": 5,
   "id": "d9bed3f5-bf04-4b35-8e3d-5bb140a3f048",
   "metadata": {},
   "outputs": [
    {
     "name": "stdout",
     "output_type": "stream",
     "text": [
      "Average Temperatures by Year:\n",
      "2012: 11.28°C\n",
      "2013: 12.11°C\n",
      "2014: 12.83°C\n",
      "2015: 13.13°C\n",
      "\n",
      "Coolest Year: 2012 with 11.28°C\n",
      "Hottest Year: 2015 with 13.13°C\n"
     ]
    }
   ],
   "source": [
    "coolest_year = min(reduced_data, key=reduced_data.get)\n",
    "hottest_year = max(reduced_data, key=reduced_data.get)\n",
    "\n",
    "print(\"Average Temperatures by Year:\")\n",
    "for year in sorted(reduced_data):\n",
    "    print(f\"{year}: {reduced_data[year]:.2f}°C\")\n",
    "\n",
    "print(f\"\\nCoolest Year: {coolest_year} with {reduced_data[coolest_year]:.2f}°C\")\n",
    "print(f\"Hottest Year: {hottest_year} with {reduced_data[hottest_year]:.2f}°C\")\n"
   ]
  },
  {
   "cell_type": "code",
   "execution_count": null,
   "id": "ad8c3701-f620-45b1-8845-7599cbc26139",
   "metadata": {},
   "outputs": [],
   "source": []
  }
 ],
 "metadata": {
  "kernelspec": {
   "display_name": "Python 3 (ipykernel)",
   "language": "python",
   "name": "python3"
  },
  "language_info": {
   "codemirror_mode": {
    "name": "ipython",
    "version": 3
   },
   "file_extension": ".py",
   "mimetype": "text/x-python",
   "name": "python",
   "nbconvert_exporter": "python",
   "pygments_lexer": "ipython3",
   "version": "3.11.7"
  }
 },
 "nbformat": 4,
 "nbformat_minor": 5
}
