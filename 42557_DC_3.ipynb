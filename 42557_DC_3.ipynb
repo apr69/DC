{
 "cells": [
  {
   "cell_type": "markdown",
   "id": "1cf09337-3e20-4eb1-ade2-1bb6f86493ea",
   "metadata": {},
   "source": [
    "<h1><center><b>Computer Laboratory III : Distributed Computing Assignment - 3</b></center></h1>\n",
    "<h2 align=\"right\"><b>42557 - Ashish Ransing</b></h2> "
   ]
  },
  {
   "cell_type": "markdown",
   "id": "7a5e75df-2c74-4baf-a9e2-99cdb4cfaebf",
   "metadata": {},
   "source": [
    "## ------------------------------------------------------------------------------------------------------------"
   ]
  },
  {
   "cell_type": "markdown",
   "id": "1232b477-7c67-49cb-b499-a578a4c796ec",
   "metadata": {},
   "source": [
    "### **Problem Statement:**\n",
    "Write code to simulate requests coming from clients and distribute them among the servers \n",
    "using the load balancing algorithms\r"
   ]
  },
  {
   "cell_type": "markdown",
   "id": "8b007efb-8a87-4440-8c36-9f4f991079ab",
   "metadata": {},
   "source": [
    "## ------------------------------------------------------------------------------------------------------------"
   ]
  },
  {
   "cell_type": "markdown",
   "id": "dfdf75d2-0493-4ed7-af7d-4d5322f95172",
   "metadata": {},
   "source": [
    "#### **Importing Libraries and Initialize Servers**"
   ]
  },
  {
   "cell_type": "code",
   "execution_count": 1,
   "id": "42a33b78-642a-4b68-9f96-157ea3fa1f08",
   "metadata": {},
   "outputs": [],
   "source": [
    "import random\n",
    "\n",
    "# List of available servers\n",
    "servers = [\"Server1\", \"Server2\", \"Server3\"]"
   ]
  },
  {
   "cell_type": "markdown",
   "id": "49a02b86-e775-474a-a3ad-ed0399a11a24",
   "metadata": {},
   "source": [
    "## ------------------------------------------------------------------------------------------------------------"
   ]
  },
  {
   "cell_type": "markdown",
   "id": "e5db6f6d-4295-48e2-8f3d-98afb8907d6c",
   "metadata": {},
   "source": [
    "#### **Defining Random and Round Robin Load Balancer**"
   ]
  },
  {
   "cell_type": "code",
   "execution_count": 2,
   "id": "a619c7f0-f3de-41d8-8786-bd4194b43aca",
   "metadata": {},
   "outputs": [],
   "source": [
    "# Round Robin Load Balancer\n",
    "class RoundRobinLoadBalancer:\n",
    "    def __init__(self, servers):\n",
    "        self.servers = servers\n",
    "        self.current_index = 0\n",
    "\n",
    "    def get_server(self):\n",
    "        server = self.servers[self.current_index]\n",
    "        self.current_index = (self.current_index + 1) % len(self.servers)\n",
    "        return server\n",
    "\n",
    "# Random Load Balancer\n",
    "class RandomLoadBalancer:\n",
    "    def __init__(self, servers):\n",
    "        self.servers = servers\n",
    "\n",
    "    def get_server(self):\n",
    "        return random.choice(self.servers)"
   ]
  },
  {
   "cell_type": "markdown",
   "id": "60c8f10c-9cb5-497a-8871-487a68898dc2",
   "metadata": {},
   "source": [
    "## ------------------------------------------------------------------------------------------------------------"
   ]
  },
  {
   "cell_type": "markdown",
   "id": "7ff61f63-c9cd-4cce-9704-c1433f7c5179",
   "metadata": {},
   "source": [
    "#### **Simulating Client Requests**"
   ]
  },
  {
   "cell_type": "code",
   "execution_count": 3,
   "id": "995963ea-2540-4a6d-ac38-2978f3cb3b18",
   "metadata": {},
   "outputs": [],
   "source": [
    "def simulate_requests(load_balancer, num_requests):\n",
    "    for i in range(1, num_requests + 1):\n",
    "        server = load_balancer.get_server()\n",
    "        print(f\"Request {i} routed to {server}\")"
   ]
  },
  {
   "cell_type": "markdown",
   "id": "b0c12619-c92b-4740-8c62-98701ca607fb",
   "metadata": {},
   "source": [
    "## ------------------------------------------------------------------------------------------------------------"
   ]
  },
  {
   "cell_type": "markdown",
   "id": "da2976b4-e7bd-48db-b693-9ea55d2099ff",
   "metadata": {},
   "source": [
    "#### **Output**"
   ]
  },
  {
   "cell_type": "code",
   "execution_count": 4,
   "id": "9dc28aae-419f-4127-b8c6-d1439dab0814",
   "metadata": {},
   "outputs": [
    {
     "name": "stdout",
     "output_type": "stream",
     "text": [
      "Round Robin Load Balancing:\n",
      "Request 1 routed to Server1\n",
      "Request 2 routed to Server2\n",
      "Request 3 routed to Server3\n",
      "Request 4 routed to Server1\n",
      "Request 5 routed to Server2\n",
      "Request 6 routed to Server3\n",
      "Request 7 routed to Server1\n",
      "Request 8 routed to Server2\n",
      "Request 9 routed to Server3\n",
      "Request 10 routed to Server1\n",
      "\n",
      "Random Load Balancing:\n",
      "Request 1 routed to Server2\n",
      "Request 2 routed to Server1\n",
      "Request 3 routed to Server3\n",
      "Request 4 routed to Server1\n",
      "Request 5 routed to Server2\n",
      "Request 6 routed to Server2\n",
      "Request 7 routed to Server3\n",
      "Request 8 routed to Server2\n",
      "Request 9 routed to Server2\n",
      "Request 10 routed to Server3\n"
     ]
    }
   ],
   "source": [
    "if __name__ == \"__main__\":\n",
    "    print(\"Round Robin Load Balancing:\")\n",
    "    round_robin_lb = RoundRobinLoadBalancer(servers)\n",
    "    simulate_requests(round_robin_lb, 10)\n",
    "\n",
    "    print(\"\\nRandom Load Balancing:\")\n",
    "    random_lb = RandomLoadBalancer(servers)\n",
    "    simulate_requests(random_lb, 10)"
   ]
  },
  {
   "cell_type": "markdown",
   "id": "1ce1f4fb-cc10-4224-9fc3-453fd08c5e8f",
   "metadata": {},
   "source": [
    "## ------------------------------------------------------------------------------------------------------------"
   ]
  }
 ],
 "metadata": {
  "kernelspec": {
   "display_name": "Python 3 (ipykernel)",
   "language": "python",
   "name": "python3"
  },
  "language_info": {
   "codemirror_mode": {
    "name": "ipython",
    "version": 3
   },
   "file_extension": ".py",
   "mimetype": "text/x-python",
   "name": "python",
   "nbconvert_exporter": "python",
   "pygments_lexer": "ipython3",
   "version": "3.11.7"
  }
 },
 "nbformat": 4,
 "nbformat_minor": 5
}
